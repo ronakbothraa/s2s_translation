{
 "cells": [
  {
   "cell_type": "code",
   "execution_count": 1,
   "metadata": {},
   "outputs": [
    {
     "name": "stderr",
     "output_type": "stream",
     "text": [
      "c:\\Users\\ronak\\anaconda3\\envs\\s2s_project\\lib\\site-packages\\tqdm\\auto.py:21: TqdmWarning: IProgress not found. Please update jupyter and ipywidgets. See https://ipywidgets.readthedocs.io/en/stable/user_install.html\n",
      "  from .autonotebook import tqdm as notebook_tqdm\n"
     ]
    }
   ],
   "source": [
    "import pyaudio, wave, os, torch, keyboard\n",
    "import numpy as np\n",
    "from faster_whisper import WhisperModel\n",
    "from transformers import AutoTokenizer, AutoModelForSeq2SeqLM\n",
    "from queue import Queue\n",
    "from threading import Thread"
   ]
  },
  {
   "cell_type": "code",
   "execution_count": 2,
   "metadata": {},
   "outputs": [],
   "source": [
    "messages = Queue()\n",
    "recordings = Queue()\n",
    "transcribed_text = Queue()\n",
    "\n",
    "def start_recording():\n",
    "    messages.put(True)\n",
    "\n",
    "    print(\"Start Recording:\")\n",
    "    recording = Thread(target=record_microphone)\n",
    "    recording.start()\n",
    "    \n",
    "    transcribing = Thread(target=transcription)\n",
    "    transcribing.start()\n",
    "\n",
    "    translation = Thread(target=translate)\n",
    "    translation.start()\n",
    "\n",
    "def stop_recording():\n",
    "    messages.get()\n",
    "    print(\"Translated Text: \", \" \".join(translated_text))"
   ]
  },
  {
   "cell_type": "code",
   "execution_count": 3,
   "metadata": {},
   "outputs": [],
   "source": [
    "CHANNELS = 1\n",
    "FRAME_RATE = 16000\n",
    "RECORD_SECONDS = 3\n",
    "FORMAT = pyaudio.paInt16\n",
    "def record_microphone(chunk=1024):\n",
    "    p = pyaudio.PyAudio()\n",
    "    stream = p.open(format=FORMAT,\n",
    "                   channels=CHANNELS,\n",
    "                   rate=FRAME_RATE,\n",
    "                   input=True,\n",
    "                   input_device_index=1,\n",
    "                   frames_per_buffer=chunk)\n",
    "    \n",
    "    frames = []\n",
    "    \n",
    "    while not messages.empty():\n",
    "        data = stream.read(chunk)\n",
    "        frames.append(data)\n",
    "        if len(frames) >= (FRAME_RATE * RECORD_SECONDS) / chunk:\n",
    "\n",
    "            if np.max(np.abs(np.frombuffer(b''.join(frames), dtype=np.int16))) < 1000:\n",
    "                stop_recording()\n",
    "\n",
    "            recordings.put(frames.copy())\n",
    "            frames = []\n",
    "            i = 0\n",
    "    \n",
    "    stream.stop_stream()\n",
    "    stream.close()\n",
    "    p.terminate()"
   ]
  },
  {
   "cell_type": "code",
   "execution_count": 4,
   "metadata": {},
   "outputs": [],
   "source": [
    "transcription_model = WhisperModel(\"large-v3\", device=\"cuda\" if torch.cuda.is_available() else \"cpu\", compute_type=\"float16\" if torch.cuda.is_available() else \"int8\")\n",
    "def transcription():\n",
    "    while not messages.empty():\n",
    "        frames = recordings.get()\n",
    "        \n",
    "        with wave.open(\"audio.wav\", 'wb') as wf:\n",
    "            wf.setnchannels(CHANNELS)\n",
    "            wf.setsampwidth(2)\n",
    "            wf.setframerate(FRAME_RATE)\n",
    "            wf.writeframes(b''.join(frames))\n",
    "\n",
    "        segments, _ = transcription_model.transcribe(f'audio.wav', beam_size=5)\n",
    "        text = \" \".join([segment.text for segment in segments])\n",
    "        transcribed_text.put(text)\n",
    "        print(f\"live transcription: \", text)\n",
    "        os.remove(f\"audio.wav\")\n",
    "        \n",
    "        if keyboard.is_pressed('q'):\n",
    "            stop_recording()"
   ]
  },
  {
   "cell_type": "code",
   "execution_count": 5,
   "metadata": {},
   "outputs": [
    {
     "name": "stderr",
     "output_type": "stream",
     "text": [
      "c:\\Users\\ronak\\anaconda3\\envs\\s2s_project\\lib\\site-packages\\transformers\\tokenization_utils_base.py:1617: FutureWarning: `clean_up_tokenization_spaces` was not set. It will be set to `True` by default. This behavior will be deprecated in transformers v4.45, and will be then set to `False` by default. For more details check this issue: https://github.com/huggingface/transformers/issues/31884\n",
      "  warnings.warn(\n"
     ]
    }
   ],
   "source": [
    "translated_text = []\n",
    "tokenizer = AutoTokenizer.from_pretrained(\"facebook/nllb-200-distilled-600M\")\n",
    "translation_model = AutoModelForSeq2SeqLM.from_pretrained(\"facebook/nllb-200-distilled-600M\")\n",
    "def translate():\n",
    "    while not messages.empty():\n",
    "        text = transcribed_text.get()\n",
    "        inputs = tokenizer(text, return_tensors=\"pt\", padding=True, truncation=True)\n",
    "        inputs = {k: inputs[k].to(translation_model.device) for k in inputs}\n",
    "        outputs = translation_model.generate(**inputs, forced_bos_token_id=tokenizer.convert_tokens_to_ids(\"hin_Deva\"))\n",
    "        outputs = tokenizer.batch_decode(outputs, skip_special_tokens=True)[0]\n",
    "        translated_text.append(outputs)"
   ]
  },
  {
   "cell_type": "code",
   "execution_count": 6,
   "metadata": {},
   "outputs": [
    {
     "name": "stdout",
     "output_type": "stream",
     "text": [
      "Start Recording:\n"
     ]
    },
    {
     "name": "stdout",
     "output_type": "stream",
     "text": [
      "live transcription:   Hi, this is Raunak and I am\n",
      "live transcription:   trying new project, this should\n",
      "live transcription:   work right now. And if it is working, thank you.\n",
      "live transcription:   Thank you so much.\n",
      "live transcription:   And hey, this is Arnold.\n",
      "live transcription:   മേന്ടുന്ന അണ്ളമുത്\n",
      "live transcription:   सब्सक्राइब\n",
      "live transcription:   अगर मैं बोलना  अरे तो अगर तो\n",
      "live transcription:   तो fine tune करना ही पड़ेगा मेरे को  अब इसमें मैंने यह भी implement करवा करना\n",
      "live transcription:   बोलना चुप कर दो तो ऑटोमाटिकली स्टॉप हो जाती है\n",
      "live transcription:   Aqui ó, em semelheira.\n",
      "live transcription:   अगर मैं बोलना हूँ अरे तो अगर तो\n",
      "live transcription:   चाहिए\n",
      "live transcription:   सब्सक्राइब\n",
      "live transcription:   नहीं बना रहे के फास्ता मिस्पर तो तेज है\n",
      "live transcription:   Gopane aise.\n",
      "live transcription:   नहीं है\n",
      "live transcription:   सब्सक्राइब\n",
      "live transcription:   सब्सक्राइब\n",
      "live transcription:   Chukwu Chukwu Chukwu  and they clap their hands.\n",
      "live transcription:   To the end.\n",
      "live transcription:   Ha ha ha.\n",
      "Translated Text:  हैलो, यह Raunak है और मैं हूँ नई परियोजना की कोशिश कर, यह चाहिए और अगर यह काम कर रहा है, धन्यवाद. बहुत बहुत धन्यवाद. और हे, यह अर्नोल्ड है. मेन्टुन्न अन्लमुत् सदस्यता अगर मैं बोलना अरे तो अगर तो तो ठीक से ट्यून करना ही पड़ेगा मुझे अब इसमें मैंने भी इसे लागू करवाया चुप हो जाओ और यह स्वचालित रूप से बंद हो जाता है यहाँ, मैं एक ही हूँ। अगर मैं बोलना है अरे तो अगर तो चाहिए सदस्यता नहीं बनाने की गति मिस्पर तो तेज है गोपेन एसी। नहीं है सदस्यता सदस्यता चकु चकु चकु और वे हाथ मिलाते हैं। अंत तक. हा हा हा.\n",
      "live transcription:   Thank you.\n"
     ]
    },
    {
     "ename": "",
     "evalue": "",
     "output_type": "error",
     "traceback": [
      "\u001b[1;31mThe Kernel crashed while executing code in the current cell or a previous cell. \n",
      "\u001b[1;31mPlease review the code in the cell(s) to identify a possible cause of the failure. \n",
      "\u001b[1;31mClick <a href='https://aka.ms/vscodeJupyterKernelCrash'>here</a> for more info. \n",
      "\u001b[1;31mView Jupyter <a href='command:jupyter.viewOutput'>log</a> for further details."
     ]
    }
   ],
   "source": [
    "start_recording()"
   ]
  },
  {
   "cell_type": "code",
   "execution_count": null,
   "metadata": {},
   "outputs": [],
   "source": []
  }
 ],
 "metadata": {
  "kernelspec": {
   "display_name": "s2s_project",
   "language": "python",
   "name": "python3"
  },
  "language_info": {
   "codemirror_mode": {
    "name": "ipython",
    "version": 3
   },
   "file_extension": ".py",
   "mimetype": "text/x-python",
   "name": "python",
   "nbconvert_exporter": "python",
   "pygments_lexer": "ipython3",
   "version": "3.10.15"
  }
 },
 "nbformat": 4,
 "nbformat_minor": 2
}
